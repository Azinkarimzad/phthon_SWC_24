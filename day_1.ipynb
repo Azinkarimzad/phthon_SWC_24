{
 "cells": [
  {
   "cell_type": "markdown",
   "id": "a3aca1b3-5fd3-4d6a-aced-400517053984",
   "metadata": {},
   "source": [
    "Hello world"
   ]
  },
  {
   "cell_type": "code",
   "execution_count": 1,
   "id": "a1cb4a8d-6763-449a-a2e1-ecf6de98e4c5",
   "metadata": {},
   "outputs": [
    {
     "data": {
      "text/plain": [
       "5"
      ]
     },
     "execution_count": 1,
     "metadata": {},
     "output_type": "execute_result"
    }
   ],
   "source": [
    "2+3"
   ]
  },
  {
   "cell_type": "code",
   "execution_count": 2,
   "id": "5c1d40b5-a5cb-4ac9-b359-f31b39e7c908",
   "metadata": {},
   "outputs": [],
   "source": [
    "name='Alice'"
   ]
  },
  {
   "cell_type": "code",
   "execution_count": null,
   "id": "ff1046d1-c9ae-43cd-8615-8194ea3b86fa",
   "metadata": {},
   "outputs": [],
   "source": []
  }
 ],
 "metadata": {
  "kernelspec": {
   "display_name": "Python 3 (ipykernel)",
   "language": "python",
   "name": "python3"
  },
  "language_info": {
   "codemirror_mode": {
    "name": "ipython",
    "version": 3
   },
   "file_extension": ".py",
   "mimetype": "text/x-python",
   "name": "python",
   "nbconvert_exporter": "python",
   "pygments_lexer": "ipython3",
   "version": "3.13.0"
  }
 },
 "nbformat": 4,
 "nbformat_minor": 5
}
