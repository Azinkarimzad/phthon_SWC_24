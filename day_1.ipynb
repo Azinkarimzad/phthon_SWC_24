{
 "cells": [
  {
   "cell_type": "markdown",
   "id": "a3aca1b3-5fd3-4d6a-aced-400517053984",
   "metadata": {},
   "source": [
    "Hello world"
   ]
  },
  {
   "cell_type": "code",
   "execution_count": 1,
   "id": "a1cb4a8d-6763-449a-a2e1-ecf6de98e4c5",
   "metadata": {},
   "outputs": [
    {
     "data": {
      "text/plain": [
       "5"
      ]
     },
     "execution_count": 1,
     "metadata": {},
     "output_type": "execute_result"
    }
   ],
   "source": [
    "2+3"
   ]
  },
  {
   "cell_type": "code",
   "execution_count": 2,
   "id": "5c1d40b5-a5cb-4ac9-b359-f31b39e7c908",
   "metadata": {},
   "outputs": [],
   "source": [
    "name='Alice'"
   ]
  },
  {
   "cell_type": "code",
   "execution_count": 3,
   "id": "ff1046d1-c9ae-43cd-8615-8194ea3b86fa",
   "metadata": {},
   "outputs": [],
   "source": [
    "number=2"
   ]
  },
  {
   "cell_type": "code",
   "execution_count": 4,
   "id": "0bd04c09-a901-438d-9fe4-f9faf78d1942",
   "metadata": {},
   "outputs": [],
   "source": [
    "weight_1=45"
   ]
  },
  {
   "cell_type": "code",
   "execution_count": 5,
   "id": "48e2ed5b-19c5-4c8c-8b0b-e171e7347c6e",
   "metadata": {},
   "outputs": [
    {
     "name": "stdout",
     "output_type": "stream",
     "text": [
      "45\n"
     ]
    }
   ],
   "source": [
    "print(weight_1)"
   ]
  },
  {
   "cell_type": "code",
   "execution_count": 6,
   "id": "eb0bc1f9-0dd5-4090-9308-b1d174d3e421",
   "metadata": {},
   "outputs": [
    {
     "ename": "NameError",
     "evalue": "name 'Weight_1' is not defined",
     "output_type": "error",
     "traceback": [
      "\u001b[1;31m---------------------------------------------------------------------------\u001b[0m",
      "\u001b[1;31mNameError\u001b[0m                                 Traceback (most recent call last)",
      "Cell \u001b[1;32mIn[6], line 1\u001b[0m\n\u001b[1;32m----> 1\u001b[0m \u001b[38;5;28mprint\u001b[39m(\u001b[43mWeight_1\u001b[49m)\n",
      "\u001b[1;31mNameError\u001b[0m: name 'Weight_1' is not defined"
     ]
    }
   ],
   "source": [
    "print(Weight_1)"
   ]
  },
  {
   "cell_type": "code",
   "execution_count": null,
   "id": "c4659918-9469-41c9-b9ca-7d6c49e0d20e",
   "metadata": {},
   "outputs": [],
   "source": [
    "type()"
   ]
  }
 ],
 "metadata": {
  "kernelspec": {
   "display_name": "Python 3 (ipykernel)",
   "language": "python",
   "name": "python3"
  },
  "language_info": {
   "codemirror_mode": {
    "name": "ipython",
    "version": 3
   },
   "file_extension": ".py",
   "mimetype": "text/x-python",
   "name": "python",
   "nbconvert_exporter": "python",
   "pygments_lexer": "ipython3",
   "version": "3.13.0"
  }
 },
 "nbformat": 4,
 "nbformat_minor": 5
}
