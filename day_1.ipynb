{
 "cells": [
  {
   "cell_type": "markdown",
   "id": "a3aca1b3-5fd3-4d6a-aced-400517053984",
   "metadata": {},
   "source": [
    "Hello world"
   ]
  },
  {
   "cell_type": "code",
   "execution_count": 1,
   "id": "a1cb4a8d-6763-449a-a2e1-ecf6de98e4c5",
   "metadata": {},
   "outputs": [
    {
     "data": {
      "text/plain": [
       "5"
      ]
     },
     "execution_count": 1,
     "metadata": {},
     "output_type": "execute_result"
    }
   ],
   "source": [
    "2+3"
   ]
  },
  {
   "cell_type": "code",
   "execution_count": 2,
   "id": "5c1d40b5-a5cb-4ac9-b359-f31b39e7c908",
   "metadata": {},
   "outputs": [],
   "source": [
    "name='Alice'"
   ]
  },
  {
   "cell_type": "code",
   "execution_count": 3,
   "id": "ff1046d1-c9ae-43cd-8615-8194ea3b86fa",
   "metadata": {},
   "outputs": [],
   "source": [
    "number=2"
   ]
  },
  {
   "cell_type": "code",
   "execution_count": 4,
   "id": "0bd04c09-a901-438d-9fe4-f9faf78d1942",
   "metadata": {},
   "outputs": [],
   "source": [
    "weight_1=45"
   ]
  },
  {
   "cell_type": "code",
   "execution_count": 5,
   "id": "48e2ed5b-19c5-4c8c-8b0b-e171e7347c6e",
   "metadata": {},
   "outputs": [
    {
     "name": "stdout",
     "output_type": "stream",
     "text": [
      "45\n"
     ]
    }
   ],
   "source": [
    "print(weight_1)"
   ]
  },
  {
   "cell_type": "code",
   "execution_count": 6,
   "id": "eb0bc1f9-0dd5-4090-9308-b1d174d3e421",
   "metadata": {},
   "outputs": [
    {
     "ename": "NameError",
     "evalue": "name 'Weight_1' is not defined",
     "output_type": "error",
     "traceback": [
      "\u001b[1;31m---------------------------------------------------------------------------\u001b[0m",
      "\u001b[1;31mNameError\u001b[0m                                 Traceback (most recent call last)",
      "Cell \u001b[1;32mIn[6], line 1\u001b[0m\n\u001b[1;32m----> 1\u001b[0m \u001b[38;5;28mprint\u001b[39m(\u001b[43mWeight_1\u001b[49m)\n",
      "\u001b[1;31mNameError\u001b[0m: name 'Weight_1' is not defined"
     ]
    }
   ],
   "source": [
    "print(Weight_1)"
   ]
  },
  {
   "cell_type": "code",
   "execution_count": 7,
   "id": "c4659918-9469-41c9-b9ca-7d6c49e0d20e",
   "metadata": {},
   "outputs": [
    {
     "data": {
      "text/plain": [
       "int"
      ]
     },
     "execution_count": 7,
     "metadata": {},
     "output_type": "execute_result"
    }
   ],
   "source": [
    "type(number)"
   ]
  },
  {
   "cell_type": "code",
   "execution_count": 8,
   "id": "f0db2e9e-ba36-46b0-846b-c5b93bcc16fc",
   "metadata": {},
   "outputs": [
    {
     "data": {
      "text/plain": [
       "str"
      ]
     },
     "execution_count": 8,
     "metadata": {},
     "output_type": "execute_result"
    }
   ],
   "source": [
    "type(name)"
   ]
  },
  {
   "cell_type": "code",
   "execution_count": 9,
   "id": "8b740fcd-796d-4214-9a66-c8ae035a2442",
   "metadata": {},
   "outputs": [],
   "source": [
    "weight_1=45.5"
   ]
  },
  {
   "cell_type": "code",
   "execution_count": 10,
   "id": "194d2646-6911-4f04-9ee7-c5b9c89c4e11",
   "metadata": {},
   "outputs": [
    {
     "data": {
      "text/plain": [
       "float"
      ]
     },
     "execution_count": 10,
     "metadata": {},
     "output_type": "execute_result"
    }
   ],
   "source": [
    "type(weight_1)"
   ]
  },
  {
   "cell_type": "code",
   "execution_count": 12,
   "id": "f24b104a-3196-4630-b5d5-89f1de227d06",
   "metadata": {},
   "outputs": [
    {
     "data": {
      "text/plain": [
       "float"
      ]
     },
     "execution_count": 12,
     "metadata": {},
     "output_type": "execute_result"
    }
   ],
   "source": [
    "type(weight_1)"
   ]
  },
  {
   "cell_type": "code",
   "execution_count": 13,
   "id": "ab0ace26-176f-409b-b682-1479507ab15f",
   "metadata": {},
   "outputs": [
    {
     "name": "stdout",
     "output_type": "stream",
     "text": [
      "3\n"
     ]
    }
   ],
   "source": [
    "print(5-2)"
   ]
  },
  {
   "cell_type": "code",
   "execution_count": 14,
   "id": "f429fdc6-f2d0-40ec-9ccf-90df6d031af3",
   "metadata": {},
   "outputs": [
    {
     "ename": "TypeError",
     "evalue": "unsupported operand type(s) for -: 'int' and 'str'",
     "output_type": "error",
     "traceback": [
      "\u001b[1;31m---------------------------------------------------------------------------\u001b[0m",
      "\u001b[1;31mTypeError\u001b[0m                                 Traceback (most recent call last)",
      "Cell \u001b[1;32mIn[14], line 1\u001b[0m\n\u001b[1;32m----> 1\u001b[0m \u001b[38;5;28mprint\u001b[39m(\u001b[38;5;241;43m5\u001b[39;49m\u001b[38;5;241;43m-\u001b[39;49m\u001b[38;5;124;43m'\u001b[39;49m\u001b[38;5;124;43mAlice\u001b[39;49m\u001b[38;5;124;43m'\u001b[39;49m)\n",
      "\u001b[1;31mTypeError\u001b[0m: unsupported operand type(s) for -: 'int' and 'str'"
     ]
    }
   ],
   "source": [
    "print(5-'Alice')"
   ]
  },
  {
   "cell_type": "code",
   "execution_count": 15,
   "id": "d727797c-0ea8-44a4-9b65-0fd926f8ae3d",
   "metadata": {},
   "outputs": [
    {
     "ename": "TypeError",
     "evalue": "unsupported operand type(s) for -: 'str' and 'str'",
     "output_type": "error",
     "traceback": [
      "\u001b[1;31m---------------------------------------------------------------------------\u001b[0m",
      "\u001b[1;31mTypeError\u001b[0m                                 Traceback (most recent call last)",
      "Cell \u001b[1;32mIn[15], line 1\u001b[0m\n\u001b[1;32m----> 1\u001b[0m \u001b[38;5;28mprint\u001b[39m(\u001b[38;5;124;43m'\u001b[39;49m\u001b[38;5;124;43mhello\u001b[39;49m\u001b[38;5;124;43m'\u001b[39;49m\u001b[38;5;241;43m-\u001b[39;49m\u001b[38;5;124;43m'\u001b[39;49m\u001b[38;5;124;43mh\u001b[39;49m\u001b[38;5;124;43m'\u001b[39;49m)\n",
      "\u001b[1;31mTypeError\u001b[0m: unsupported operand type(s) for -: 'str' and 'str'"
     ]
    }
   ],
   "source": [
    "print('hello'-'h')"
   ]
  },
  {
   "cell_type": "code",
   "execution_count": 16,
   "id": "8d1fdac4-cf44-4f1b-b8ba-9e0c52bf2c1d",
   "metadata": {},
   "outputs": [],
   "source": [
    "weight_1=50.0"
   ]
  },
  {
   "cell_type": "code",
   "execution_count": 17,
   "id": "8c9d2a93-f2d7-444c-a989-cefb57302a0e",
   "metadata": {},
   "outputs": [],
   "source": [
    "weight_1_lb=weight_1*2.2"
   ]
  },
  {
   "cell_type": "code",
   "execution_count": 18,
   "id": "cbf22696-3e77-4442-8352-c8a326480a30",
   "metadata": {},
   "outputs": [
    {
     "data": {
      "text/plain": [
       "110.00000000000001"
      ]
     },
     "execution_count": 18,
     "metadata": {},
     "output_type": "execute_result"
    }
   ],
   "source": [
    "weight_1_lb"
   ]
  },
  {
   "cell_type": "code",
   "execution_count": 19,
   "id": "940840c0-49b1-4e49-b35a-c17be6919fd5",
   "metadata": {},
   "outputs": [
    {
     "name": "stdout",
     "output_type": "stream",
     "text": [
      "110.00000000000001\n"
     ]
    }
   ],
   "source": [
    "print(weight_1_lb)"
   ]
  },
  {
   "cell_type": "code",
   "execution_count": 20,
   "id": "0bc3be85-a934-4230-87b0-4e61dfd3bdec",
   "metadata": {},
   "outputs": [
    {
     "name": "stdout",
     "output_type": "stream",
     "text": [
      "110\n"
     ]
    }
   ],
   "source": [
    "print(round(weight_1_lb))"
   ]
  },
  {
   "cell_type": "code",
   "execution_count": 21,
   "id": "2427e93e-7b76-42c3-aca1-dbe4b035079f",
   "metadata": {},
   "outputs": [
    {
     "name": "stdout",
     "output_type": "stream",
     "text": [
      "Welcome to Python 3.13's help utility! If this is your first time using\n",
      "Python, you should definitely check out the tutorial at\n",
      "https://docs.python.org/3.13/tutorial/.\n",
      "\n",
      "Enter the name of any module, keyword, or topic to get help on writing\n",
      "Python programs and using Python modules.  To get a list of available\n",
      "modules, keywords, symbols, or topics, enter \"modules\", \"keywords\",\n",
      "\"symbols\", or \"topics\".\n",
      "\n",
      "Each module also comes with a one-line summary of what it does; to list\n",
      "the modules whose name or summary contain a given string such as \"spam\",\n",
      "enter \"modules spam\".\n",
      "\n",
      "To quit this help utility and return to the interpreter,\n",
      "enter \"q\", \"quit\" or \"exit\".\n",
      "\n"
     ]
    },
    {
     "name": "stdin",
     "output_type": "stream",
     "text": [
      "help>  type\n"
     ]
    },
    {
     "name": "stdout",
     "output_type": "stream",
     "text": [
      "Help on class type in module builtins:\n",
      "\n",
      "class type(object)\n",
      " |  type(object) -> the object's type\n",
      " |  type(name, bases, dict, **kwds) -> a new type\n",
      " |\n",
      " |  Methods defined here:\n",
      " |\n",
      " |  __call__(self, /, *args, **kwargs)\n",
      " |      Call self as a function.\n",
      " |\n",
      " |  __delattr__(self, name, /)\n",
      " |      Implement delattr(self, name).\n",
      " |\n",
      " |  __dir__(self, /)\n",
      " |      Specialized __dir__ implementation for types.\n",
      " |\n",
      " |  __getattribute__(self, name, /)\n",
      " |      Return getattr(self, name).\n",
      " |\n",
      " |  __init__(self, /, *args, **kwargs)\n",
      " |      Initialize self.  See help(type(self)) for accurate signature.\n",
      " |\n",
      " |  __instancecheck__(self, instance, /)\n",
      " |      Check if an object is an instance.\n",
      " |\n",
      " |  __or__(self, value, /)\n",
      " |      Return self|value.\n",
      " |\n",
      " |  __repr__(self, /)\n",
      " |      Return repr(self).\n",
      " |\n",
      " |  __ror__(self, value, /)\n",
      " |      Return value|self.\n",
      " |\n",
      " |  __setattr__(self, name, value, /)\n",
      " |      Implement setattr(self, name, value).\n",
      " |\n",
      " |  __sizeof__(self, /)\n",
      " |      Return memory consumption of the type object.\n",
      " |\n",
      " |  __subclasscheck__(self, subclass, /)\n",
      " |      Check if a class is a subclass.\n",
      " |\n",
      " |  __subclasses__(self, /)\n",
      " |      Return a list of immediate subclasses.\n",
      " |\n",
      " |  mro(self, /)\n",
      " |      Return a type's method resolution order.\n",
      " |\n",
      " |  ----------------------------------------------------------------------\n",
      " |  Class methods defined here:\n",
      " |\n",
      " |  __prepare__(name, bases, /, **kwds)\n",
      " |      Create the namespace for the class statement\n",
      " |\n",
      " |  ----------------------------------------------------------------------\n",
      " |  Static methods defined here:\n",
      " |\n",
      " |  __new__(*args, **kwargs)\n",
      " |      Create and return a new object.  See help(type) for accurate signature.\n",
      " |\n",
      " |  ----------------------------------------------------------------------\n",
      " |  Data descriptors defined here:\n",
      " |\n",
      " |  __abstractmethods__\n",
      " |\n",
      " |  __annotations__\n",
      " |\n",
      " |  __dict__\n",
      " |\n",
      " |  __text_signature__\n",
      " |\n",
      " |  ----------------------------------------------------------------------\n",
      " |  Data and other attributes defined here:\n",
      " |\n",
      " |  __base__ = <class 'object'>\n",
      " |      The base class of the class hierarchy.\n",
      " |\n",
      " |      When called, it accepts no arguments and returns a new featureless\n",
      " |      instance that has no instance attributes and cannot be given any.\n",
      " |\n",
      " |\n",
      " |  __bases__ = (<class 'object'>,)\n",
      " |\n",
      " |  __basicsize__ = 928\n",
      " |\n",
      " |  __dictoffset__ = 264\n",
      " |\n",
      " |  __flags__ = 2155896066\n",
      " |\n",
      " |  __itemsize__ = 40\n",
      " |\n",
      " |  __mro__ = (<class 'type'>, <class 'object'>)\n",
      " |\n",
      " |  __type_params__ = ()\n",
      " |\n",
      " |  __weakrefoffset__ = 368\n",
      "\n"
     ]
    },
    {
     "name": "stdin",
     "output_type": "stream",
     "text": [
      "help>  exit\n"
     ]
    },
    {
     "name": "stdout",
     "output_type": "stream",
     "text": [
      "\n",
      "You are now leaving help and returning to the Python interpreter.\n",
      "If you want to ask for help on a particular object directly from the\n",
      "interpreter, you can type \"help(object)\".  Executing \"help('string')\"\n",
      "has the same effect as typing a particular string at the help> prompt.\n"
     ]
    }
   ],
   "source": [
    "help()"
   ]
  },
  {
   "cell_type": "code",
   "execution_count": 22,
   "id": "4aae5492-ddc9-4e64-9d19-50552cca771f",
   "metadata": {},
   "outputs": [
    {
     "name": "stdout",
     "output_type": "stream",
     "text": [
      "Help on built-in function sum in module builtins:\n",
      "\n",
      "sum(iterable, /, start=0)\n",
      "    Return the sum of a 'start' value (default: 0) plus an iterable of numbers\n",
      "\n",
      "    When the iterable is empty, return the start value.\n",
      "    This function is intended specifically for use with numeric values and may\n",
      "    reject non-numeric types.\n",
      "\n"
     ]
    }
   ],
   "source": [
    "help(sum)"
   ]
  },
  {
   "cell_type": "code",
   "execution_count": 27,
   "id": "1b6efdd8-1f30-4f91-9716-85e70280efd9",
   "metadata": {},
   "outputs": [],
   "source": [
    "odds=[1,3,5,7,9]"
   ]
  },
  {
   "cell_type": "code",
   "execution_count": 24,
   "id": "65d7f311-4a3f-4f10-bef2-c52d6ae615cc",
   "metadata": {},
   "outputs": [
    {
     "data": {
      "text/plain": [
       "list"
      ]
     },
     "execution_count": 24,
     "metadata": {},
     "output_type": "execute_result"
    }
   ],
   "source": [
    "type(odds)"
   ]
  },
  {
   "cell_type": "code",
   "execution_count": 25,
   "id": "926be9b8-c2aa-4253-849b-d0009e2ff90a",
   "metadata": {},
   "outputs": [
    {
     "name": "stdout",
     "output_type": "stream",
     "text": [
      "1\n"
     ]
    }
   ],
   "source": [
    "print(odds[0])"
   ]
  },
  {
   "cell_type": "code",
   "execution_count": 26,
   "id": "6b89310d-f020-4f41-bf66-b84c1be71b6d",
   "metadata": {},
   "outputs": [
    {
     "data": {
      "text/plain": [
       "7"
      ]
     },
     "execution_count": 26,
     "metadata": {},
     "output_type": "execute_result"
    }
   ],
   "source": [
    "odds[3]"
   ]
  },
  {
   "cell_type": "code",
   "execution_count": 28,
   "id": "10b4e913-9b52-4323-bd92-8e3ca2b3ead3",
   "metadata": {},
   "outputs": [
    {
     "ename": "IndexError",
     "evalue": "list index out of range",
     "output_type": "error",
     "traceback": [
      "\u001b[1;31m---------------------------------------------------------------------------\u001b[0m",
      "\u001b[1;31mIndexError\u001b[0m                                Traceback (most recent call last)",
      "Cell \u001b[1;32mIn[28], line 1\u001b[0m\n\u001b[1;32m----> 1\u001b[0m \u001b[38;5;28mprint\u001b[39m(\u001b[43modds\u001b[49m\u001b[43m[\u001b[49m\u001b[38;5;241;43m5\u001b[39;49m\u001b[43m]\u001b[49m)\n",
      "\u001b[1;31mIndexError\u001b[0m: list index out of range"
     ]
    }
   ],
   "source": [
    "print(odds[5])"
   ]
  },
  {
   "cell_type": "code",
   "execution_count": 29,
   "id": "cfbfc718-a2a1-4892-963f-00d10373a21b",
   "metadata": {},
   "outputs": [
    {
     "ename": "IndexError",
     "evalue": "list assignment index out of range",
     "output_type": "error",
     "traceback": [
      "\u001b[1;31m---------------------------------------------------------------------------\u001b[0m",
      "\u001b[1;31mIndexError\u001b[0m                                Traceback (most recent call last)",
      "Cell \u001b[1;32mIn[29], line 1\u001b[0m\n\u001b[1;32m----> 1\u001b[0m \u001b[43modds\u001b[49m\u001b[43m[\u001b[49m\u001b[38;5;241;43m5\u001b[39;49m\u001b[43m]\u001b[49m\u001b[38;5;241m=\u001b[39m\u001b[38;5;241m11\u001b[39m\n",
      "\u001b[1;31mIndexError\u001b[0m: list assignment index out of range"
     ]
    }
   ],
   "source": [
    "odds[5]=11"
   ]
  },
  {
   "cell_type": "code",
   "execution_count": 30,
   "id": "f41f4392-9fb7-45fc-8603-05b6ef224e5f",
   "metadata": {},
   "outputs": [],
   "source": [
    "odds.append(11)"
   ]
  },
  {
   "cell_type": "code",
   "execution_count": 31,
   "id": "cc737b70-af2f-4c9e-8d6b-3fc0abbaebe2",
   "metadata": {},
   "outputs": [
    {
     "name": "stdout",
     "output_type": "stream",
     "text": [
      "[1, 3, 5, 7, 9, 11]\n"
     ]
    }
   ],
   "source": [
    "print(odds)"
   ]
  },
  {
   "cell_type": "markdown",
   "id": "33f26f44-04ca-4ff3-974e-f71eaf9e7a73",
   "metadata": {},
   "source": [
    "Work with methods (reverse, pop, remove, append, extend) "
   ]
  },
  {
   "cell_type": "code",
   "execution_count": 32,
   "id": "9029df82-c945-4bd5-9acd-a4ba145f41d6",
   "metadata": {},
   "outputs": [
    {
     "data": {
      "text/plain": [
       "1"
      ]
     },
     "execution_count": 32,
     "metadata": {},
     "output_type": "execute_result"
    }
   ],
   "source": [
    "odds.pop(0)"
   ]
  },
  {
   "cell_type": "code",
   "execution_count": 33,
   "id": "8c65857f-c91c-402a-9aec-313ab3d6a1c8",
   "metadata": {},
   "outputs": [
    {
     "name": "stdout",
     "output_type": "stream",
     "text": [
      "[3, 5, 7, 9, 11]\n"
     ]
    }
   ],
   "source": [
    "print(odds)"
   ]
  },
  {
   "cell_type": "code",
   "execution_count": 34,
   "id": "622918b2-7b74-4864-b50a-878dac0b34af",
   "metadata": {},
   "outputs": [],
   "source": [
    "odds.remove(11)"
   ]
  },
  {
   "cell_type": "code",
   "execution_count": 35,
   "id": "8d4ed146-9a6c-48c8-86a2-0b3198e7b1b0",
   "metadata": {},
   "outputs": [
    {
     "name": "stdout",
     "output_type": "stream",
     "text": [
      "[3, 5, 7, 9]\n"
     ]
    }
   ],
   "source": [
    "print(odds)"
   ]
  },
  {
   "cell_type": "code",
   "execution_count": 37,
   "id": "cf24348b-ad5e-4471-aeec-a301800ddb9a",
   "metadata": {},
   "outputs": [],
   "source": [
    "odds.reverse()"
   ]
  },
  {
   "cell_type": "code",
   "execution_count": 38,
   "id": "73e31314-f17c-465d-ba21-a5923ad26646",
   "metadata": {},
   "outputs": [
    {
     "name": "stdout",
     "output_type": "stream",
     "text": [
      "[9, 7, 5, 3]\n"
     ]
    }
   ],
   "source": [
    "print(odds)"
   ]
  },
  {
   "cell_type": "code",
   "execution_count": 39,
   "id": "c5e40e25-e9b7-4c1e-b4f7-181282e41a6b",
   "metadata": {},
   "outputs": [],
   "source": [
    "arr=[1,45.5,'Alice']"
   ]
  },
  {
   "cell_type": "code",
   "execution_count": 40,
   "id": "ac1c589b-4326-4be9-8c61-c05139f79917",
   "metadata": {},
   "outputs": [
    {
     "name": "stdout",
     "output_type": "stream",
     "text": [
      "[1, 45.5, 'Alice']\n"
     ]
    }
   ],
   "source": [
    "print(arr)"
   ]
  },
  {
   "cell_type": "code",
   "execution_count": 41,
   "id": "0d9d3244-0149-4692-a528-8a6897c61a4d",
   "metadata": {},
   "outputs": [
    {
     "data": {
      "text/plain": [
       "list"
      ]
     },
     "execution_count": 41,
     "metadata": {},
     "output_type": "execute_result"
    }
   ],
   "source": [
    "type(arr)"
   ]
  },
  {
   "cell_type": "code",
   "execution_count": 42,
   "id": "a26a6b03-4db7-44e5-b5ca-9b9faf62b1a1",
   "metadata": {},
   "outputs": [
    {
     "data": {
      "text/plain": [
       "int"
      ]
     },
     "execution_count": 42,
     "metadata": {},
     "output_type": "execute_result"
    }
   ],
   "source": [
    "type(arr[0])"
   ]
  },
  {
   "cell_type": "code",
   "execution_count": 44,
   "id": "80e9573c-d854-438b-9f05-f4aa146cf0c5",
   "metadata": {},
   "outputs": [],
   "source": [
    "name_1='Darwin'"
   ]
  },
  {
   "cell_type": "code",
   "execution_count": 45,
   "id": "9c94809c-752a-4365-a690-f831b982c0df",
   "metadata": {},
   "outputs": [
    {
     "data": {
      "text/plain": [
       "'D'"
      ]
     },
     "execution_count": 45,
     "metadata": {},
     "output_type": "execute_result"
    }
   ],
   "source": [
    "name_1[0]"
   ]
  },
  {
   "cell_type": "code",
   "execution_count": 46,
   "id": "71c72c8d-10b7-4887-8c47-84349207ec9e",
   "metadata": {},
   "outputs": [
    {
     "ename": "TypeError",
     "evalue": "'str' object does not support item assignment",
     "output_type": "error",
     "traceback": [
      "\u001b[1;31m---------------------------------------------------------------------------\u001b[0m",
      "\u001b[1;31mTypeError\u001b[0m                                 Traceback (most recent call last)",
      "Cell \u001b[1;32mIn[46], line 1\u001b[0m\n\u001b[1;32m----> 1\u001b[0m \u001b[43mname_1\u001b[49m\u001b[43m[\u001b[49m\u001b[38;5;241;43m0\u001b[39;49m\u001b[43m]\u001b[49m\u001b[38;5;241m=\u001b[39m\u001b[38;5;124m'\u001b[39m\u001b[38;5;124mB\u001b[39m\u001b[38;5;124m'\u001b[39m\n",
      "\u001b[1;31mTypeError\u001b[0m: 'str' object does not support item assignment"
     ]
    }
   ],
   "source": [
    "name_1[0]='B'"
   ]
  },
  {
   "cell_type": "code",
   "execution_count": 48,
   "id": "076fadff-277b-4a46-a214-03b5cb04ce74",
   "metadata": {},
   "outputs": [],
   "source": [
    "shopping_list=['salt','pepper','paprika']"
   ]
  },
  {
   "cell_type": "code",
   "execution_count": 49,
   "id": "e1908be5-4854-4c80-9a74-2da4da3fdc5d",
   "metadata": {},
   "outputs": [
    {
     "name": "stdout",
     "output_type": "stream",
     "text": [
      "['salt', 'pepper', 'paprika']\n"
     ]
    }
   ],
   "source": [
    "print(shopping_list)"
   ]
  },
  {
   "cell_type": "code",
   "execution_count": 50,
   "id": "73d25d2f-d1b2-4ac0-b19d-c6ebccfa17f9",
   "metadata": {},
   "outputs": [],
   "source": [
    "shallow_copy_shopping_list=shopping_list"
   ]
  },
  {
   "cell_type": "code",
   "execution_count": 51,
   "id": "a291a7fd-2212-4503-9959-a6736758256f",
   "metadata": {},
   "outputs": [
    {
     "name": "stdout",
     "output_type": "stream",
     "text": [
      "['salt', 'pepper', 'paprika']\n"
     ]
    }
   ],
   "source": [
    "print(shallow_copy_shopping_list)"
   ]
  },
  {
   "cell_type": "code",
   "execution_count": 52,
   "id": "510bcc32-9b97-4505-9c62-7a9f999eb2f5",
   "metadata": {},
   "outputs": [],
   "source": [
    "shallow_copy_shopping_list[0]='tomato'"
   ]
  },
  {
   "cell_type": "code",
   "execution_count": 53,
   "id": "b03da73a-9a8a-4eb3-be4a-20ac0150908b",
   "metadata": {},
   "outputs": [
    {
     "name": "stdout",
     "output_type": "stream",
     "text": [
      "['tomato', 'pepper', 'paprika']\n"
     ]
    }
   ],
   "source": [
    "print(shallow_copy_shopping_list)"
   ]
  },
  {
   "cell_type": "code",
   "execution_count": 54,
   "id": "8039db0e-df48-474a-bd75-296d8e88100b",
   "metadata": {},
   "outputs": [
    {
     "name": "stdout",
     "output_type": "stream",
     "text": [
      "['tomato', 'pepper', 'paprika']\n"
     ]
    }
   ],
   "source": [
    "print(shopping_list)"
   ]
  },
  {
   "cell_type": "code",
   "execution_count": 55,
   "id": "2d1aaf92-9e5f-4cc0-9f39-384952b95a64",
   "metadata": {},
   "outputs": [],
   "source": [
    "deep_copy_shopping_list=list(shopping_list)"
   ]
  },
  {
   "cell_type": "code",
   "execution_count": 56,
   "id": "7eb96790-765c-4c4f-b1f5-67aaad1a5995",
   "metadata": {},
   "outputs": [
    {
     "name": "stdout",
     "output_type": "stream",
     "text": [
      "['tomato', 'pepper', 'paprika']\n"
     ]
    }
   ],
   "source": [
    "print(deep_copy_shopping_list)"
   ]
  },
  {
   "cell_type": "code",
   "execution_count": 57,
   "id": "bfc673a6-5c27-4773-9ff4-d16f45cffa77",
   "metadata": {},
   "outputs": [],
   "source": [
    "deep_copy_shopping_list[0]='potato'"
   ]
  },
  {
   "cell_type": "code",
   "execution_count": 58,
   "id": "5cac6a99-4cc1-41af-87c7-3e8abfd2677e",
   "metadata": {},
   "outputs": [
    {
     "name": "stdout",
     "output_type": "stream",
     "text": [
      "['potato', 'pepper', 'paprika'] ['tomato', 'pepper', 'paprika']\n"
     ]
    }
   ],
   "source": [
    "print(deep_copy_shopping_list,shopping_list)"
   ]
  },
  {
   "cell_type": "code",
   "execution_count": 59,
   "id": "f533204c-4524-4bc3-9942-fc14e1916fdd",
   "metadata": {},
   "outputs": [],
   "source": [
    "months = ['jan', 'feb', 'mar', 'apr', 'may', 'jun', 'jul', 'aug', 'sep', 'oct', 'nov', 'dec']"
   ]
  },
  {
   "cell_type": "code",
   "execution_count": 64,
   "id": "1a5f0e8d-3974-40f3-9107-a8384d0b911a",
   "metadata": {},
   "outputs": [
    {
     "name": "stdout",
     "output_type": "stream",
     "text": [
      "['jan', 'feb', 'mar', 'apr', 'may', 'jun', 'jul', 'aug', 'sep', 'oct', 'nov']\n"
     ]
    }
   ],
   "source": [
    "new_months=print(list(months[0:11]))"
   ]
  },
  {
   "cell_type": "code",
   "execution_count": 63,
   "id": "4f2b3561-f9e0-49fa-8c16-5264b5bb4e4a",
   "metadata": {},
   "outputs": [
    {
     "name": "stdout",
     "output_type": "stream",
     "text": [
      "['jan', 'feb']\n"
     ]
    }
   ],
   "source": [
    "new_months_1=print(list(months[0:2]))"
   ]
  },
  {
   "cell_type": "code",
   "execution_count": 65,
   "id": "cd376c1a-a3e1-434b-bcaf-b74cb634b5e3",
   "metadata": {},
   "outputs": [
    {
     "name": "stdout",
     "output_type": "stream",
     "text": [
      "[9, 7, 5, 3]\n"
     ]
    }
   ],
   "source": [
    "print(odds)"
   ]
  },
  {
   "cell_type": "code",
   "execution_count": 66,
   "id": "146c5fc2-4eeb-49e4-b601-264772112a1f",
   "metadata": {},
   "outputs": [
    {
     "data": {
      "text/plain": [
       "4"
      ]
     },
     "execution_count": 66,
     "metadata": {},
     "output_type": "execute_result"
    }
   ],
   "source": [
    "len(odds)"
   ]
  },
  {
   "cell_type": "code",
   "execution_count": 67,
   "id": "03781d04-bdc6-4727-bbe1-a0aef8b70935",
   "metadata": {},
   "outputs": [],
   "source": [
    "arr=[1,3,5]"
   ]
  },
  {
   "cell_type": "code",
   "execution_count": 68,
   "id": "59ccfa19-70f0-4acf-a021-1a3512d84ab3",
   "metadata": {},
   "outputs": [],
   "source": [
    "arr_sum=sum(arr)"
   ]
  },
  {
   "cell_type": "code",
   "execution_count": 69,
   "id": "c4b64c09-73a6-4184-8e80-2eb1bfdc18ce",
   "metadata": {},
   "outputs": [
    {
     "name": "stdout",
     "output_type": "stream",
     "text": [
      "9\n"
     ]
    }
   ],
   "source": [
    "print(arr_sum)"
   ]
  },
  {
   "cell_type": "code",
   "execution_count": 70,
   "id": "66f94728-27a6-4ace-8b00-285440a23524",
   "metadata": {},
   "outputs": [],
   "source": [
    "arr_1=[[1,3],[5,6]]"
   ]
  },
  {
   "cell_type": "code",
   "execution_count": 71,
   "id": "4c19f60e-7a07-4039-8187-2dd017e0000e",
   "metadata": {},
   "outputs": [
    {
     "name": "stdout",
     "output_type": "stream",
     "text": [
      "[[1, 3], [5, 6]]\n"
     ]
    }
   ],
   "source": [
    "print(arr_1)"
   ]
  },
  {
   "cell_type": "code",
   "execution_count": 72,
   "id": "a1252894-0cd5-48ae-912f-4c28b1d71931",
   "metadata": {},
   "outputs": [
    {
     "ename": "TypeError",
     "evalue": "unsupported operand type(s) for +: 'int' and 'list'",
     "output_type": "error",
     "traceback": [
      "\u001b[1;31m---------------------------------------------------------------------------\u001b[0m",
      "\u001b[1;31mTypeError\u001b[0m                                 Traceback (most recent call last)",
      "Cell \u001b[1;32mIn[72], line 1\u001b[0m\n\u001b[1;32m----> 1\u001b[0m sum_arr_1\u001b[38;5;241m=\u001b[39m\u001b[38;5;28;43msum\u001b[39;49m\u001b[43m(\u001b[49m\u001b[43marr_1\u001b[49m\u001b[43m)\u001b[49m\n",
      "\u001b[1;31mTypeError\u001b[0m: unsupported operand type(s) for +: 'int' and 'list'"
     ]
    }
   ],
   "source": [
    "sum_arr_1=sum(arr_1)"
   ]
  },
  {
   "cell_type": "code",
   "execution_count": 73,
   "id": "30681bd3-db56-47a7-a669-8a7ffdb45461",
   "metadata": {},
   "outputs": [],
   "source": [
    "import numpy as np"
   ]
  },
  {
   "cell_type": "code",
   "execution_count": 74,
   "id": "7d993471-f15e-4bb9-aa75-fa535b2f8f98",
   "metadata": {},
   "outputs": [],
   "source": [
    "copy_arr_1=list(arr_1)"
   ]
  },
  {
   "cell_type": "code",
   "execution_count": 75,
   "id": "761285ee-2132-4a6b-8d6c-a5c2a0d5db2d",
   "metadata": {},
   "outputs": [],
   "source": [
    "sum_copy_arr_1=np.sum(copy_arr_1)"
   ]
  },
  {
   "cell_type": "code",
   "execution_count": 76,
   "id": "833d0088-75da-4d5f-b0b4-db7419f0e397",
   "metadata": {},
   "outputs": [
    {
     "name": "stdout",
     "output_type": "stream",
     "text": [
      "15\n"
     ]
    }
   ],
   "source": [
    "print(sum_copy_arr_1)"
   ]
  },
  {
   "cell_type": "code",
   "execution_count": 77,
   "id": "53e1cab1-9b0a-429f-b18e-522e8d589e0e",
   "metadata": {},
   "outputs": [
    {
     "ename": "AttributeError",
     "evalue": "'list' object has no attribute 'shape'",
     "output_type": "error",
     "traceback": [
      "\u001b[1;31m---------------------------------------------------------------------------\u001b[0m",
      "\u001b[1;31mAttributeError\u001b[0m                            Traceback (most recent call last)",
      "Cell \u001b[1;32mIn[77], line 1\u001b[0m\n\u001b[1;32m----> 1\u001b[0m \u001b[38;5;28mprint\u001b[39m(\u001b[43mcopy_arr_1\u001b[49m\u001b[38;5;241;43m.\u001b[39;49m\u001b[43mshape\u001b[49m)\n",
      "\u001b[1;31mAttributeError\u001b[0m: 'list' object has no attribute 'shape'"
     ]
    }
   ],
   "source": [
    "print(copy_arr_1.shape)"
   ]
  },
  {
   "cell_type": "code",
   "execution_count": 78,
   "id": "f4648b26-ec36-46dd-ae17-f194949f0345",
   "metadata": {},
   "outputs": [
    {
     "name": "stdout",
     "output_type": "stream",
     "text": [
      "[[1, 3], [5, 6]]\n"
     ]
    }
   ],
   "source": [
    "print(copy_arr_1)"
   ]
  },
  {
   "cell_type": "code",
   "execution_count": 79,
   "id": "ea5fe1b6-c4fc-46b0-8234-30e3cada6b44",
   "metadata": {},
   "outputs": [
    {
     "data": {
      "text/plain": [
       "[1, 3, 5]"
      ]
     },
     "execution_count": 79,
     "metadata": {},
     "output_type": "execute_result"
    }
   ],
   "source": [
    "arr"
   ]
  },
  {
   "cell_type": "code",
   "execution_count": 84,
   "id": "bf847881-ede7-4d71-b95d-a882a102b641",
   "metadata": {},
   "outputs": [
    {
     "name": "stdout",
     "output_type": "stream",
     "text": [
      "(2,)\n"
     ]
    }
   ],
   "source": [
    "arr_2=np.array([1,2])\n",
    "print(arr_2.shape)"
   ]
  },
  {
   "cell_type": "code",
   "execution_count": 81,
   "id": "7c85f871-ab2f-4703-8075-b73a6c7920f7",
   "metadata": {},
   "outputs": [],
   "source": [
    "import numpy as np\n",
    "data=np.loadtxt(fname='./data/inflammation-01.csv',delimiter=',')"
   ]
  },
  {
   "cell_type": "code",
   "execution_count": 85,
   "id": "bcc4287d-3ecd-4444-b10e-fcb78f5d2911",
   "metadata": {},
   "outputs": [
    {
     "data": {
      "text/plain": [
       "dtype('float64')"
      ]
     },
     "execution_count": 85,
     "metadata": {},
     "output_type": "execute_result"
    }
   ],
   "source": [
    "data.dtype"
   ]
  },
  {
   "cell_type": "code",
   "execution_count": 86,
   "id": "93e7d8fc-2c6e-47dc-9dc1-89c9b85f99d4",
   "metadata": {},
   "outputs": [
    {
     "name": "stdout",
     "output_type": "stream",
     "text": [
      "0.0\n"
     ]
    }
   ],
   "source": [
    "print(data[0,0])"
   ]
  },
  {
   "cell_type": "code",
   "execution_count": 87,
   "id": "c74f2d03-8759-4b35-9a59-183fb66458ab",
   "metadata": {},
   "outputs": [],
   "source": [
    "data_1=data[0:9,:]"
   ]
  },
  {
   "cell_type": "code",
   "execution_count": 88,
   "id": "cc31419e-a03b-478f-89d1-928e8aa978de",
   "metadata": {},
   "outputs": [
    {
     "name": "stdout",
     "output_type": "stream",
     "text": [
      "[[ 0.  0.  1.  3.  1.  2.  4.  7.  8.  3.  3.  3. 10.  5.  7.  4.  7.  7.\n",
      "  12. 18.  6. 13. 11. 11.  7.  7.  4.  6.  8.  8.  4.  4.  5.  7.  3.  4.\n",
      "   2.  3.  0.  0.]\n",
      " [ 0.  1.  2.  1.  2.  1.  3.  2.  2.  6. 10. 11.  5.  9.  4.  4.  7. 16.\n",
      "   8.  6. 18.  4. 12.  5. 12.  7. 11.  5. 11.  3.  3.  5.  4.  4.  5.  5.\n",
      "   1.  1.  0.  1.]\n",
      " [ 0.  1.  1.  3.  3.  2.  6.  2.  5.  9.  5.  7.  4.  5.  4. 15.  5. 11.\n",
      "   9. 10. 19. 14. 12. 17.  7. 12. 11.  7.  4.  2. 10.  5.  4.  2.  2.  3.\n",
      "   2.  2.  1.  1.]\n",
      " [ 0.  0.  2.  0.  4.  2.  2.  1.  6.  7. 10.  7.  9. 13.  8.  8. 15. 10.\n",
      "  10.  7. 17.  4.  4.  7.  6. 15.  6.  4.  9. 11.  3.  5.  6.  3.  3.  4.\n",
      "   2.  3.  2.  1.]\n",
      " [ 0.  1.  1.  3.  3.  1.  3.  5.  2.  4.  4.  7.  6.  5.  3. 10.  8. 10.\n",
      "   6. 17.  9. 14.  9.  7. 13.  9. 12.  6.  7.  7.  9.  6.  3.  2.  2.  4.\n",
      "   2.  0.  1.  1.]\n",
      " [ 0.  0.  1.  2.  2.  4.  2.  1.  6.  4.  7.  6.  6.  9.  9. 15.  4. 16.\n",
      "  18. 12. 12.  5. 18.  9.  5.  3. 10.  3. 12.  7.  8.  4.  7.  3.  5.  4.\n",
      "   4.  3.  2.  1.]\n",
      " [ 0.  0.  2.  2.  4.  2.  2.  5.  5.  8.  6.  5. 11.  9.  4. 13.  5. 12.\n",
      "  10.  6.  9. 17. 15.  8.  9.  3. 13.  7.  8.  2.  8.  8.  4.  2.  3.  5.\n",
      "   4.  1.  1.  1.]\n",
      " [ 0.  0.  1.  2.  3.  1.  2.  3.  5.  3.  7.  8.  8.  5. 10.  9. 15. 11.\n",
      "  18. 19. 20.  8.  5. 13. 15. 10.  6. 10.  6.  7.  4.  9.  3.  5.  2.  5.\n",
      "   3.  2.  2.  1.]\n",
      " [ 0.  0.  0.  3.  1.  5.  6.  5.  5.  8.  2.  4. 11. 12. 10. 11.  9. 10.\n",
      "  17. 11.  6. 16. 12.  6.  8. 14.  6. 13. 10. 11.  4.  6.  4.  7.  6.  3.\n",
      "   2.  1.  0.  0.]]\n"
     ]
    }
   ],
   "source": [
    "print(data_1)"
   ]
  },
  {
   "cell_type": "code",
   "execution_count": 89,
   "id": "1ed28dc2-ae10-4654-af4a-683348e94e94",
   "metadata": {},
   "outputs": [],
   "source": [
    "data_2=data[:9,:]"
   ]
  },
  {
   "cell_type": "code",
   "execution_count": 91,
   "id": "7190beda-6074-4c00-9ca4-29d0b20607b0",
   "metadata": {},
   "outputs": [],
   "source": [
    "data_3=data[2:4,:9]"
   ]
  },
  {
   "cell_type": "code",
   "execution_count": 93,
   "id": "2a79f939-d36d-4d1b-8599-a8bcfdc1507b",
   "metadata": {},
   "outputs": [
    {
     "name": "stdout",
     "output_type": "stream",
     "text": [
      "the mean equals to = 6.14875\n"
     ]
    }
   ],
   "source": [
    "#import numpy as np\n",
    "mean_data=np.mean(data)\n",
    "print('the mean equals to =',mean_data)"
   ]
  },
  {
   "cell_type": "code",
   "execution_count": 94,
   "id": "dfce2db0-6f68-40a5-a802-c9abacdfe517",
   "metadata": {},
   "outputs": [
    {
     "name": "stdout",
     "output_type": "stream",
     "text": [
      "the min equals to = 0.0\n"
     ]
    }
   ],
   "source": [
    "min_data=np.min(data)\n",
    "print('the min equals to =',min_data)"
   ]
  },
  {
   "cell_type": "code",
   "execution_count": 97,
   "id": "fe2131c2-7ef5-4ad1-b050-0ade75dfd6dd",
   "metadata": {},
   "outputs": [
    {
     "name": "stdout",
     "output_type": "stream",
     "text": [
      "the max equals to 20.0\n",
      "the std equals to 4.613833197118566\n"
     ]
    }
   ],
   "source": [
    "max_data=print('the max equals to',np.max(data))\n",
    "std_data=print('the std equals to',np.std(data))\n"
   ]
  },
  {
   "cell_type": "code",
   "execution_count": 98,
   "id": "a0181956-7ca9-44fd-9aae-e618f8c139c7",
   "metadata": {},
   "outputs": [],
   "source": [
    "import matplotlib.pyplot as plt"
   ]
  },
  {
   "cell_type": "code",
   "execution_count": 99,
   "id": "8e6010f5-4ceb-47fe-94ea-201cc3de060e",
   "metadata": {},
   "outputs": [
    {
     "data": {
      "text/plain": [
       "<matplotlib.image.AxesImage at 0x22ef6a4b230>"
      ]
     },
     "execution_count": 99,
     "metadata": {},
     "output_type": "execute_result"
    },
    {
     "data": {
      "image/png": "[encoded data removed]",
      "text/plain": [
       "<Figure size 640x480 with 1 Axes>"
      ]
     },
     "metadata": {},
     "output_type": "display_data"
    }
   ],
   "source": [
    "plt.imshow(data)"
   ]
  },
  {
   "cell_type": "code",
   "execution_count": 103,
   "id": "c471d34e-6db7-488f-b3b0-ecfea0a47c45",
   "metadata": {},
   "outputs": [],
   "source": [
    "data_first_1=data[0:9,:]"
   ]
  },
  {
   "cell_type": "code",
   "execution_count": 107,
   "id": "2184add0-c3ad-417c-8ae3-2062461a1cb7",
   "metadata": {},
   "outputs": [
    {
     "data": {
      "text/plain": [
       "Text(0.5, 1.0, 'inflammation rate')"
      ]
     },
     "execution_count": 107,
     "metadata": {},
     "output_type": "execute_result"
    },
    {
     "data": {
      "image/png": "[encoded data removed]",
      "text/plain": [
       "<Figure size 640x480 with 1 Axes>"
      ]
     },
     "metadata": {},
     "output_type": "display_data"
    }
   ],
   "source": [
    "plt.imshow(data_first_1)\n",
    "plt.xlabel('days')\n",
    "plt.ylabel('Patients')\n",
    "plt.title('inflammation rate')\n",
    "#plt.show()"
   ]
  },
  {
   "cell_type": "code",
   "execution_count": 108,
   "id": "5f125597-858f-4813-b55e-f9ed1456b9f6",
   "metadata": {},
   "outputs": [],
   "source": [
    "data_first_patient=data[0,:];"
   ]
  },
  {
   "cell_type": "code",
   "execution_count": 109,
   "id": "ee4ba4f4-f682-47da-a95d-4577bdee622d",
   "metadata": {},
   "outputs": [
    {
     "name": "stdout",
     "output_type": "stream",
     "text": [
      "[ 0.  0.  1.  3.  1.  2.  4.  7.  8.  3.  3.  3. 10.  5.  7.  4.  7.  7.\n",
      " 12. 18.  6. 13. 11. 11.  7.  7.  4.  6.  8.  8.  4.  4.  5.  7.  3.  4.\n",
      "  2.  3.  0.  0.]\n"
     ]
    }
   ],
   "source": [
    "print(data_first_patient)"
   ]
  },
  {
   "cell_type": "code",
   "execution_count": 110,
   "id": "9a5a8ec4-f45b-42ca-9822-ba784f7dc9a9",
   "metadata": {},
   "outputs": [
    {
     "data": {
      "text/plain": [
       "[<matplotlib.lines.Line2D at 0x22ef8fb9d10>]"
      ]
     },
     "execution_count": 110,
     "metadata": {},
     "output_type": "execute_result"
    },
    {
     "data": {
      "image/png": "[encoded data removed]",
      "text/plain": [
       "<Figure size 640x480 with 1 Axes>"
      ]
     },
     "metadata": {},
     "output_type": "display_data"
    }
   ],
   "source": [
    "plt.plot(data_first_patient)"
   ]
  },
  {
   "cell_type": "code",
   "execution_count": 111,
   "id": "9b2abc74-31f4-43c6-a813-746ca289cb59",
   "metadata": {},
   "outputs": [],
   "source": [
    "data_second_patient=data[1,:];"
   ]
  },
  {
   "cell_type": "code",
   "execution_count": 112,
   "id": "7342aa72-e6e5-41e7-9ec1-6c9646b5aa9e",
   "metadata": {},
   "outputs": [
    {
     "data": {
      "text/plain": [
       "[<matplotlib.lines.Line2D at 0x22ef9735e50>]"
      ]
     },
     "execution_count": 112,
     "metadata": {},
     "output_type": "execute_result"
    },
    {
     "data": {
      "image/png": "[encoded data removed]",
      "text/plain": [
       "<Figure size 640x480 with 1 Axes>"
      ]
     },
     "metadata": {},
     "output_type": "display_data"
    }
   ],
   "source": [
    "plt.plot(data_second_patient)"
   ]
  },
  {
   "cell_type": "code",
   "execution_count": 114,
   "id": "685f662b-9b14-4d37-b10e-8aeff1c952ab",
   "metadata": {},
   "outputs": [
    {
     "data": {
      "text/plain": [
       "Text(0, 0.5, 'Mean inflammation')"
      ]
     },
     "execution_count": 114,
     "metadata": {},
     "output_type": "execute_result"
    },
    {
     "data": {
      "image/png": "[encoded data removed]",
      "text/plain": [
       "<Figure size 640x480 with 3 Axes>"
      ]
     },
     "metadata": {},
     "output_type": "display_data"
    }
   ],
   "source": [
    "import numpy as np\n",
    "import matplotlib.pyplot as plt\n",
    "\n",
    "#load the data\n",
    "data=np.loadtxt(fname='./data/inflammation-01.csv',delimiter=',')\n",
    "\n",
    "#calculate the mean, max, std across patients (axis=0)\n",
    "\n",
    "mean_data=np.mean(data,axis=0)\n",
    "max_data=np.max(data,axis=0)\n",
    "std_data=np.std(data,axis=0)\n",
    "\n",
    "#create subplots for mean, max, std\n",
    "fig,axes= plt.subplots(1,3)\n",
    "\n",
    "#plot\n",
    "axes[0].plot(mean_data,color='blue')\n",
    "axes[0].set_title('the mean inflammation rate over 40 days')\n",
    "axes[0].set_xlabel('Days')\n",
    "axes[0].set_ylabel('Mean inflammation')\n",
    "\n"
   ]
  },
  {
   "cell_type": "code",
   "execution_count": null,
   "id": "f9ae9031-25da-4d19-8b4c-41f4986b314a",
   "metadata": {},
   "outputs": [],
   "source": []
  }
 ],
 "metadata": {
  "kernelspec": {
   "display_name": "Python 3 (ipykernel)",
   "language": "python",
   "name": "python3"
  },
  "language_info": {
   "codemirror_mode": {
    "name": "ipython",
    "version": 3
   },
   "file_extension": ".py",
   "mimetype": "text/x-python",
   "name": "python",
   "nbconvert_exporter": "python",
   "pygments_lexer": "ipython3",
   "version": "3.13.0"
  }
 },
 "nbformat": 4,
 "nbformat_minor": 5
}
