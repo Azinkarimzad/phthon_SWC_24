{
 "cells": [
  {
   "cell_type": "code",
   "execution_count": 5,
   "id": "8ad0455c-28fe-402d-a9ef-f0e4bb4a1022",
   "metadata": {
    "editable": true,
    "slideshow": {
     "slide_type": ""
    },
    "tags": []
   },
   "outputs": [
    {
     "data": {
      "text/plain": [
       "5"
      ]
     },
     "execution_count": 5,
     "metadata": {},
     "output_type": "execute_result"
    }
   ],
   "source": [
    "2+3"
   ]
  },
  {
   "cell_type": "code",
   "execution_count": 3,
   "id": "41dd8ec9-82d0-4a88-8fc8-ac6b1964d16f",
   "metadata": {},
   "outputs": [],
   "source": [
    "a=2"
   ]
  },
  {
   "cell_type": "code",
   "execution_count": 4,
   "id": "1e4fa032-5ddc-4acd-bed4-124db6dc25d4",
   "metadata": {},
   "outputs": [
    {
     "name": "stdout",
     "output_type": "stream",
     "text": [
      "2\n"
     ]
    }
   ],
   "source": [
    "print(a)"
   ]
  },
  {
   "cell_type": "code",
   "execution_count": 6,
   "id": "91c27791-431c-440f-b354-108972525df1",
   "metadata": {},
   "outputs": [
    {
     "data": {
      "text/plain": [
       "3"
      ]
     },
     "execution_count": 6,
     "metadata": {},
     "output_type": "execute_result"
    }
   ],
   "source": [
    "3"
   ]
  },
  {
   "cell_type": "code",
   "execution_count": 7,
   "id": "24c627ed-2209-47a6-be10-2cc530ae0d83",
   "metadata": {},
   "outputs": [
    {
     "data": {
      "text/plain": [
       "8"
      ]
     },
     "execution_count": 7,
     "metadata": {},
     "output_type": "execute_result"
    }
   ],
   "source": [
    "3+5"
   ]
  },
  {
   "cell_type": "code",
   "execution_count": 8,
   "id": "4a3d7166-db8c-4028-abea-bef7a3b54c2c",
   "metadata": {},
   "outputs": [
    {
     "data": {
      "text/plain": [
       "12"
      ]
     },
     "execution_count": 8,
     "metadata": {},
     "output_type": "execute_result"
    }
   ],
   "source": [
    "2+(2+3)*2"
   ]
  },
  {
   "cell_type": "code",
   "execution_count": 9,
   "id": "3b1a5e45-3af0-410c-bdbf-15419d9710cc",
   "metadata": {},
   "outputs": [],
   "source": [
    "a=2 #storing the value 2 in variable a"
   ]
  },
  {
   "cell_type": "code",
   "execution_count": 10,
   "id": "c8d173bc-63b1-48aa-bd8c-2473d1c5e2f8",
   "metadata": {},
   "outputs": [],
   "source": [
    "weight_1=45 #the variable should be meaningful"
   ]
  },
  {
   "cell_type": "code",
   "execution_count": 11,
   "id": "63700548-8da6-4600-8123-cf43d19a2f00",
   "metadata": {},
   "outputs": [
    {
     "data": {
      "text/plain": [
       "45"
      ]
     },
     "execution_count": 11,
     "metadata": {},
     "output_type": "execute_result"
    }
   ],
   "source": [
    "weight_1"
   ]
  },
  {
   "cell_type": "code",
   "execution_count": 12,
   "id": "0da10f03-64c6-4409-a840-9544faf05881",
   "metadata": {},
   "outputs": [
    {
     "data": {
      "text/plain": [
       "45"
      ]
     },
     "execution_count": 12,
     "metadata": {},
     "output_type": "execute_result"
    }
   ],
   "source": [
    "weight_1"
   ]
  },
  {
   "cell_type": "code",
   "execution_count": 13,
   "id": "e2743592-270c-4031-8e3d-e2a5784e4190",
   "metadata": {},
   "outputs": [
    {
     "ename": "NameError",
     "evalue": "name 'Weight_1' is not defined",
     "output_type": "error",
     "traceback": [
      "\u001b[1;31m---------------------------------------------------------------------------\u001b[0m",
      "\u001b[1;31mNameError\u001b[0m                                 Traceback (most recent call last)",
      "Cell \u001b[1;32mIn[13], line 1\u001b[0m\n\u001b[1;32m----> 1\u001b[0m \u001b[43mWeight_1\u001b[49m\n",
      "\u001b[1;31mNameError\u001b[0m: name 'Weight_1' is not defined"
     ]
    }
   ],
   "source": [
    "Weight_1"
   ]
  },
  {
   "cell_type": "code",
   "execution_count": 14,
   "id": "99f43f71-e26b-47c7-a198-3f128eeae151",
   "metadata": {},
   "outputs": [
    {
     "name": "stdout",
     "output_type": "stream",
     "text": [
      "45\n"
     ]
    }
   ],
   "source": [
    "print(weight_1)"
   ]
  },
  {
   "cell_type": "code",
   "execution_count": 15,
   "id": "d0471ba6-e438-4e6e-81f2-8b639ba47642",
   "metadata": {},
   "outputs": [],
   "source": [
    "weight_kg=50"
   ]
  },
  {
   "cell_type": "code",
   "execution_count": 16,
   "id": "7392a177-b5f8-48eb-a9cb-2b77358c40b1",
   "metadata": {},
   "outputs": [],
   "source": [
    "weight_kg=52.5"
   ]
  },
  {
   "cell_type": "code",
   "execution_count": 17,
   "id": "701f6043-bb4b-493e-8fd9-cba7a6b2132b",
   "metadata": {},
   "outputs": [
    {
     "data": {
      "text/plain": [
       "52.5"
      ]
     },
     "execution_count": 17,
     "metadata": {},
     "output_type": "execute_result"
    }
   ],
   "source": [
    "weight_kg"
   ]
  },
  {
   "cell_type": "code",
   "execution_count": 18,
   "id": "65c56401-f7d5-4f21-9ec8-faf040223b2b",
   "metadata": {},
   "outputs": [
    {
     "data": {
      "text/plain": [
       "float"
      ]
     },
     "execution_count": 18,
     "metadata": {},
     "output_type": "execute_result"
    }
   ],
   "source": [
    "type(weight_kg)"
   ]
  },
  {
   "cell_type": "code",
   "execution_count": 19,
   "id": "175093b2-e6e0-4dc2-8d41-4aca80376580",
   "metadata": {},
   "outputs": [
    {
     "data": {
      "text/plain": [
       "int"
      ]
     },
     "execution_count": 19,
     "metadata": {},
     "output_type": "execute_result"
    }
   ],
   "source": [
    "type(weight_1)"
   ]
  },
  {
   "cell_type": "code",
   "execution_count": 20,
   "id": "1385c967-9318-4083-a3f2-065007d7183a",
   "metadata": {},
   "outputs": [],
   "source": [
    "name_patinet_1='Azin'"
   ]
  },
  {
   "cell_type": "code",
   "execution_count": 21,
   "id": "91a0cd38-1768-478f-984d-df03da2f5663",
   "metadata": {},
   "outputs": [
    {
     "name": "stdout",
     "output_type": "stream",
     "text": [
      "Azin\n"
     ]
    }
   ],
   "source": [
    "print(name_patinet_1)"
   ]
  },
  {
   "cell_type": "code",
   "execution_count": null,
   "id": "47c57c86-0b47-4882-b63f-5af64dec375f",
   "metadata": {},
   "outputs": [],
   "source": []
  }
 ],
 "metadata": {
  "kernelspec": {
   "display_name": "Python 3 (ipykernel)",
   "language": "python",
   "name": "python3"
  },
  "language_info": {
   "codemirror_mode": {
    "name": "ipython",
    "version": 3
   },
   "file_extension": ".py",
   "mimetype": "text/x-python",
   "name": "python",
   "nbconvert_exporter": "python",
   "pygments_lexer": "ipython3",
   "version": "3.13.0"
  }
 },
 "nbformat": 4,
 "nbformat_minor": 5
}
